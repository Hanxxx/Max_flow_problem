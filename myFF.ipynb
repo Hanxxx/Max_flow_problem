{
 "cells": [
  {
   "cell_type": "markdown",
   "metadata": {},
   "source": [
    "# Max Flow Applications\n",
    "\n",
    "The purpose of this assignment is to investigate applications of finding a Max Flow. The problem asks you to design and implement an algorithm for shipping a material between nodes with different supply and demand requirements.\n",
    "\n",
    "* Please write code *only* in the bodies of the two functions, that is, following the TODO comments.\n",
    "* Be careful not to use varibles defined outside of the functions.\n",
    "* Breaking the two above rules may lead to 0 grades."
   ]
  },
  {
   "cell_type": "markdown",
   "metadata": {},
   "source": [
    "## Movie distribution\n",
    "\n",
    "First solve Problem 1 from hw3-t. \n",
    "\n",
    "Now suppose a movie distributor would like to ship a copy of a film from CA to every other state. There are therefore 48 units to ship out of CA, and each other state receives 1 unit. \n",
    "\n",
    "The dataset contiguous-usa.dat lists the adjacent states in the US. Each line lists two adjacent states; thus AK and HI are omitted, but DC is included in the data. The following code reads in the graph of US states."
   ]
  },
  {
   "cell_type": "code",
   "execution_count": 1,
   "metadata": {},
   "outputs": [],
   "source": [
    "import networkx as nx\n",
    "G = nx.Graph()\n",
    "\n",
    "usa = open('contiguous-usa.dat')\n",
    "for line in usa:\n",
    "    s1, s2 = line.strip().split()\n",
    "    G.add_edge(s1, s2)"
   ]
  },
  {
   "cell_type": "markdown",
   "metadata": {},
   "source": [
    "We now encode the demands into the graph."
   ]
  },
  {
   "cell_type": "code",
   "execution_count": 2,
   "metadata": {},
   "outputs": [],
   "source": [
    "for state in G.nodes():\n",
    "    if state != 'CA':\n",
    "        G.node[state]['demand'] = 1\n",
    "G.node['CA']['demand'] = -48"
   ]
  },
  {
   "cell_type": "markdown",
   "metadata": {},
   "source": [
    "We will assign a uniform capacity of 16 to each edge. Since CA has only three adjacent states, this is the smallest possible uniform capacity that allows one to ship all 48 units out of CA. As we have created an undirected graph, and flows have directions, we first convert the graph to a directed graph."
   ]
  },
  {
   "cell_type": "code",
   "execution_count": 3,
   "metadata": {},
   "outputs": [],
   "source": [
    "G = nx.DiGraph(G)\n",
    "uniform_capacity = 16\n",
    "for (s1, s2) in G.edges():\n",
    "    G.edge[s1][s2]['capacity'] = uniform_capacity"
   ]
  },
  {
   "cell_type": "markdown",
   "metadata": {},
   "source": [
    "Complete the following function to implement your algorithm to find a flow with demands. Your function should work correctly for any input, not just the movie instance considered here. As always, you are encouraged to define auxiliary functions as needed for clarity."
   ]
  },
  {
   "cell_type": "code",
   "execution_count": 4,
   "metadata": {},
   "outputs": [],
   "source": [
    "def residual(graph, flow):\n",
    "    Gf = nx.DiGraph()\n",
    "    for i in graph.nodes():\n",
    "        Gf.add_node(i)\n",
    "    for (s1, s2) in graph.edges():\n",
    "        if flow[s1][s2] < graph[s1][s2]['capacity']:\n",
    "            Gf.add_edge(s1, s2 ,c = graph[s1][s2]['capacity'] - flow[s1][s2], label = 'forward')\n",
    "        if flow[s1][s2] > 0:\n",
    "            Gf.add_edge(s2, s1, c = flow[s1][s2], label = 'backward')\n",
    "    return Gf\n",
    "def st_path(graph, source, sink):\n",
    "    #BFS\n",
    "    discovered = {}\n",
    "    parent = {}\n",
    "    dist = {}\n",
    "    for i in graph.nodes():\n",
    "        discovered[i] = False\n",
    "        parent[i] = None\n",
    "        dist[i] = 922337203685477580\n",
    "    q = []\n",
    "    q.append(source)\n",
    "    discovered[source] = True\n",
    "    dist[source] = 0\n",
    "    while q:\n",
    "        u = q.pop(0)\n",
    "        for v in graph.neighbors(u):\n",
    "            if discovered[v] == False:\n",
    "                discovered[v] = True\n",
    "                dist[v] = dist[u] + 1\n",
    "                parent[v] = u\n",
    "                q.append(v)\n",
    "    if parent[sink] == None:\n",
    "        return (922337203685477580, None)\n",
    "    p = sink\n",
    "    path = []\n",
    "    min_c = 922337203685477580\n",
    "    while 1:\n",
    "        pp = parent[p]\n",
    "        if pp == None:\n",
    "            break\n",
    "        cc = graph.edge[pp][p]['c']\n",
    "        if cc < min_c:\n",
    "            min_c = cc\n",
    "        path.append((pp, p))\n",
    "        p = pp\n",
    "    path.reverse()\n",
    "    return (min_c, path)\n",
    "        \n",
    "def aug(graph, flow, path, min_c):\n",
    "    for (s1, s2) in path:\n",
    "        if graph.edge[s1][s2]['label'] == 'forward':\n",
    "            flow[s1][s2] = flow[s1][s2] + min_c\n",
    "        else:\n",
    "            f1ow[s2][s1] = flow[s2][s1] - mic_c\n",
    "    return flow\n",
    "        \n",
    "def max_flow(graph, source, sink):\n",
    "    f = {}\n",
    "    for i in graph.nodes():\n",
    "        f[i] = {}\n",
    "    for (s1, s2) in graph.edges():\n",
    "        f[s1][s2] = 0\n",
    "    Gf = residual(graph, f)\n",
    "    \n",
    "    (min_c, s) = st_path(Gf, source, sink)\n",
    "    while s:\n",
    "        #print s\n",
    "        f1 = aug(Gf, f, s, min_c)\n",
    "        f = f1\n",
    "        Gf = residual(graph, f)\n",
    "        (min_c, s) = st_path(Gf, source, sink)\n",
    "    fv = 0\n",
    "    for s in graph.neighbors(source):\n",
    "        fv += f[source][s]\n",
    "    return fv, f\n",
    "    #s = st_path(Gf)"
   ]
  },
  {
   "cell_type": "code",
   "execution_count": 5,
   "metadata": {},
   "outputs": [],
   "source": [
    "def flow_with_demands(graph):\n",
    "    \"\"\"Computes a flow with demands over the given graph.\n",
    "    \n",
    "    Args:\n",
    "        graph: A directed graph with nodes annotated with 'demand' properties and edges annotated with 'capacity' \n",
    "            properties.\n",
    "        \n",
    "    Returns:\n",
    "        A dict of dicts containing the flow on each edge. For instance, flow[s1][s2] should provide the flow along\n",
    "        edge (s1, s2).\n",
    "        \n",
    "    Raises:\n",
    "        NetworkXUnfeasible: An error is thrown if there is no flow satisfying the demands.\n",
    "    \"\"\"\n",
    "    # TODO: Implement the function.\n",
    "    flow = {}\n",
    "    for (s1, s2) in graph.edges():\n",
    "        t = {s2 : -1}\n",
    "        flow[s1] = t\n",
    "    sum_supply = 0\n",
    "    sum_demand = 0\n",
    "    S = []\n",
    "    T = []\n",
    "    for i in graph.nodes():\n",
    "        if graph.node[i]['demand'] > 0:\n",
    "            T.append(i)\n",
    "            sum_demand += graph.node[i]['demand']\n",
    "        else:\n",
    "            S.append(i)\n",
    "            sum_supply -= graph.node[i]['demand']\n",
    "    if sum_demand != sum_supply:\n",
    "        raise nx.NetworkXUnfeasible(\"supply is not equal to demand!\")\n",
    "        \n",
    "    graph.add_nodes_from([\"newsource\", \"newsink\"])\n",
    "    for s in S:\n",
    "        graph.add_edge(\"newsource\", s, capacity = -1 * graph.node[s]['demand'])\n",
    "    for t in T:\n",
    "        graph.add_edge(t, \"newsink\", capacity = graph.node[t]['demand'])\n",
    "    print \"--------\"\n",
    "    (fv, fd) = max_flow(graph, \"newsource\", \"newsink\")\n",
    "    #(fv, fd) = nx.maximum_flow(graph, \"newsource\", \"newsink\")\n",
    "    \n",
    "    for s in S:\n",
    "        graph.remove_edge(\"newsource\", s)\n",
    "    for t in T:\n",
    "        graph.remove_edge(t, \"newsink\")\n",
    "    graph.remove_nodes_from([\"newsource\", \"newsink\"])\n",
    "    if fv < sum_demand:\n",
    "        raise nx.NetworkXUnfeasible(\"No feasible circulation\")\n",
    "    for (s1, s2) in graph.edges():\n",
    "        flow[s1][s2] = fd[s1][s2]\n",
    "   \n",
    "    return flow\n",
    "\n",
    "#f = flow_with_demands(G)"
   ]
  },
  {
   "cell_type": "markdown",
   "metadata": {},
   "source": [
    "To verify that your solution is correct, implement a function that computes the total flow into each node (which will be negative for supply nodes)."
   ]
  },
  {
   "cell_type": "code",
   "execution_count": 6,
   "metadata": {},
   "outputs": [],
   "source": [
    "def divergence(flow):\n",
    "    \"\"\"Computes the total flow into each node according to the given flow dict.\n",
    "    \n",
    "    Args:\n",
    "        flow: the flow dict recording flow between nodes.\n",
    "        \n",
    "    Returns:\n",
    "        A dict of the net flow into each node.\n",
    "    \"\"\"\n",
    "    # TODO: Implement the function.\n",
    "    netflow = {}\n",
    "    for i in flow:\n",
    "        netflow[i] = 0\n",
    "    for i in flow:\n",
    "        for j in flow[i]:\n",
    "            netflow[i] -= flow[i][j]\n",
    "            netflow[j] += flow[i][j]\n",
    "    return netflow\n",
    "#print divergence(f).items()\n"
   ]
  },
  {
   "cell_type": "markdown",
   "metadata": {},
   "source": [
    "The following code performs a sanity check on your function (but does not completely confirm correctness)."
   ]
  },
  {
   "cell_type": "code",
   "execution_count": 8,
   "metadata": {},
   "outputs": [
    {
     "name": "stdout",
     "output_type": "stream",
     "text": [
      "--------\n",
      "2\n",
      "3\n",
      "2\n",
      "4\n",
      "5\n",
      "2\n",
      "6\n",
      "3\n",
      "3\n",
      "4\n",
      "4\n",
      "3\n",
      "4\n",
      "3\n",
      "6\n",
      "8\n",
      "5\n",
      "6\n",
      "2\n",
      "5\n",
      "6\n",
      "6\n",
      "3\n",
      "4\n",
      "6\n",
      "3\n",
      "5\n",
      "5\n",
      "4\n",
      "6\n",
      "5\n",
      "4\n",
      "6\n",
      "3\n",
      "1\n",
      "5\n",
      "6\n",
      "5\n",
      "5\n",
      "8\n",
      "4\n",
      "3\n",
      "4\n",
      "4\n",
      "4\n",
      "2\n",
      "7\n",
      "4\n",
      "6\n",
      "Flow satisfies all demands: True\n"
     ]
    }
   ],
   "source": [
    "flow = flow_with_demands(G)\n",
    "div = divergence(flow)\n",
    "for i in G.nodes():\n",
    "    print len (G.neighbors(i))\n",
    "print \"Flow satisfies all demands:\", all(div[n] == G.node[n]['demand'] for n in G.nodes())"
   ]
  },
  {
   "cell_type": "code",
   "execution_count": null,
   "metadata": {
    "collapsed": true
   },
   "outputs": [],
   "source": []
  }
 ],
 "metadata": {
  "kernelspec": {
   "display_name": "Python 2",
   "language": "python",
   "name": "python2"
  },
  "language_info": {
   "codemirror_mode": {
    "name": "ipython",
    "version": 2
   },
   "file_extension": ".py",
   "mimetype": "text/x-python",
   "name": "python",
   "nbconvert_exporter": "python",
   "pygments_lexer": "ipython2",
   "version": "2.7.14"
  }
 },
 "nbformat": 4,
 "nbformat_minor": 1
}
